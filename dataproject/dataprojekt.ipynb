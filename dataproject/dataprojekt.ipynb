{
 "cells": [
  {
   "cell_type": "code",
   "execution_count": 1,
   "metadata": {},
   "outputs": [],
   "source": [
    "#Importer vigtige pakker\n",
    "import numpy as np\n",
    "import matplotlib.pyplot as plt\n",
    "import pandas as pd\n",
    "import pandas_datareader as pdr\n",
    "import pandas_datareader.data as web\n",
    "import datetime\n",
    "import pydst\n",
    "dst = pydst.Dst(lang='en')"
   ]
  },
  {
   "cell_type": "code",
   "execution_count": 2,
   "metadata": {},
   "outputs": [
    {
     "data": {
      "text/html": [
       "<div>\n",
       "<style scoped>\n",
       "    .dataframe tbody tr th:only-of-type {\n",
       "        vertical-align: middle;\n",
       "    }\n",
       "\n",
       "    .dataframe tbody tr th {\n",
       "        vertical-align: top;\n",
       "    }\n",
       "\n",
       "    .dataframe thead th {\n",
       "        text-align: right;\n",
       "    }\n",
       "</style>\n",
       "<table border=\"1\" class=\"dataframe\">\n",
       "  <thead>\n",
       "    <tr style=\"text-align: right;\">\n",
       "      <th></th>\n",
       "      <th>SOCIO</th>\n",
       "      <th>BRANCHE</th>\n",
       "      <th>TID</th>\n",
       "      <th>INDHOLD</th>\n",
       "    </tr>\n",
       "  </thead>\n",
       "  <tbody>\n",
       "    <tr>\n",
       "      <th>0</th>\n",
       "      <td>Hours worked (1,000 hours)</td>\n",
       "      <td>Total</td>\n",
       "      <td>1966</td>\n",
       "      <td>4604383</td>\n",
       "    </tr>\n",
       "    <tr>\n",
       "      <th>1</th>\n",
       "      <td>Hours worked (1,000 hours)</td>\n",
       "      <td>Total</td>\n",
       "      <td>1967</td>\n",
       "      <td>4537166</td>\n",
       "    </tr>\n",
       "    <tr>\n",
       "      <th>2</th>\n",
       "      <td>Hours worked (1,000 hours)</td>\n",
       "      <td>Total</td>\n",
       "      <td>1968</td>\n",
       "      <td>4467413</td>\n",
       "    </tr>\n",
       "    <tr>\n",
       "      <th>3</th>\n",
       "      <td>Hours worked (1,000 hours)</td>\n",
       "      <td>Total</td>\n",
       "      <td>1969</td>\n",
       "      <td>4453350</td>\n",
       "    </tr>\n",
       "    <tr>\n",
       "      <th>4</th>\n",
       "      <td>Hours worked (1,000 hours)</td>\n",
       "      <td>Total</td>\n",
       "      <td>1970</td>\n",
       "      <td>4449231</td>\n",
       "    </tr>\n",
       "  </tbody>\n",
       "</table>\n",
       "</div>"
      ],
      "text/plain": [
       "                        SOCIO BRANCHE   TID  INDHOLD\n",
       "0  Hours worked (1,000 hours)   Total  1966  4604383\n",
       "1  Hours worked (1,000 hours)   Total  1967  4537166\n",
       "2  Hours worked (1,000 hours)   Total  1968  4467413\n",
       "3  Hours worked (1,000 hours)   Total  1969  4453350\n",
       "4  Hours worked (1,000 hours)   Total  1970  4449231"
      ]
     },
     "execution_count": 2,
     "metadata": {},
     "output_type": "execute_result"
    }
   ],
   "source": [
    "# a. loading data\n",
    "dst.get_variables('NABP10') # command to se 'id'\n",
    "dst.get_variables('NABP10').iloc[0]['values'] # command to se 'values' in 'TRANSAKT'\n",
    "\n",
    "gva10 = dst.get_data(table_id = 'NABP10', variables={'TRANSAKT':['B1GD','D1D'],'BRANCHE':['*'], 'PRISENHED':['*'], 'TID':['*']})\n",
    "emp10 = dst.get_data(table_id = 'NABB10', variables={'SOCIO':['EMPH_DC','SALH_DC'],'BRANCHE':['*'], 'TID':['*']})\n",
    "emp10.head()"
   ]
  },
  {
   "cell_type": "code",
   "execution_count": null,
   "metadata": {},
   "outputs": [],
   "source": [
    "# b. define dictionaries to rename variables\n",
    "columns_dict = {}\n",
    "columns_dict['TRANSAKT'] = 'variable'\n",
    "columns_dict['BRANCHE'] = 'industry'\n",
    "columns_dict['PRISENHED'] = 'unit'\n",
    "columns_dict['TID'] = 'year'\n",
    "columns_dict['INDHOLD'] = 'value'\n",
    "\n",
    "var_dict = {} # var is for variable\n",
    "var_dict['B.1g Gross value added'] = 'GVA'\n",
    "var_dict['D.1 Compensation of employees'] = 'ComEmp'\n",
    "var_dict['Hours worked....'] = 'Hours_TOT'\n",
    "var_dict['Hours worked....'] = 'Hours_emp'\n",
    "\n",
    "unit_dict = {}\n",
    "unit_dict['2010-prices, chained values'] = 'real'\n",
    "unit_dict['Current prices'] = 'nominal'\n",
    "\n",
    "# b. i\n",
    "gva10.rename(columns=columns_dict,inplace=True)\n",
    "\n",
    "for key,value in var_dict.items():\n",
    "   gva10.variable.replace(key,value, inplace=True)\n",
    "\n",
    "for key,value in unit_dict.items():\n",
    "   hva10.unit.replace(key,value, inplace=True)\n",
    "\n",
    "# b. ii redefine value from 'str' to 'float'\n",
    "#na10.value = na10.value.astype('float')\n",
    "gva10.head()"
   ]
  }
 ],
 "metadata": {
  "kernelspec": {
   "display_name": "Python 3",
   "language": "python",
   "name": "python3"
  },
  "language_info": {
   "codemirror_mode": {
    "name": "ipython",
    "version": 3
   },
   "file_extension": ".py",
   "mimetype": "text/x-python",
   "name": "python",
   "nbconvert_exporter": "python",
   "pygments_lexer": "ipython3",
   "version": "3.7.1"
  }
 },
 "nbformat": 4,
 "nbformat_minor": 2
}
