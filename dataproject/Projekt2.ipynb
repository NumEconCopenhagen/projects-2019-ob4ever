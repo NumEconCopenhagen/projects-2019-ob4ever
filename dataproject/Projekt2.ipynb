{
 "cells": [
  {
   "cell_type": "code",
   "execution_count": 8,
   "metadata": {},
   "outputs": [],
   "source": [
    "#Importer vigtige pakker\n",
    "import numpy as np\n",
    "import matplotlib.pyplot as plt\n",
    "import pandas as pd\n",
    "import pandas_datareader as pdr\n",
    "import pandas_datareader.data as web\n",
    "\n",
    "import datetime\n",
    "import pydst\n",
    "dst = pydst.Dst(lang='en')"
   ]
  },
  {
   "cell_type": "code",
   "execution_count": 16,
   "metadata": {},
   "outputs": [
    {
     "data": {
      "text/html": [
       "<div>\n",
       "<style scoped>\n",
       "    .dataframe tbody tr th:only-of-type {\n",
       "        vertical-align: middle;\n",
       "    }\n",
       "\n",
       "    .dataframe tbody tr th {\n",
       "        vertical-align: top;\n",
       "    }\n",
       "\n",
       "    .dataframe thead th {\n",
       "        text-align: right;\n",
       "    }\n",
       "</style>\n",
       "<table border=\"1\" class=\"dataframe\">\n",
       "  <thead>\n",
       "    <tr style=\"text-align: right;\">\n",
       "      <th></th>\n",
       "      <th>elimination</th>\n",
       "      <th>id</th>\n",
       "      <th>text</th>\n",
       "      <th>time</th>\n",
       "      <th>values</th>\n",
       "    </tr>\n",
       "  </thead>\n",
       "  <tbody>\n",
       "    <tr>\n",
       "      <th>0</th>\n",
       "      <td>False</td>\n",
       "      <td>TRANSAKT</td>\n",
       "      <td>transaction</td>\n",
       "      <td>False</td>\n",
       "      <td>[{'id': 'P1K', 'text': 'P.1 Output'}, {'id': '...</td>\n",
       "    </tr>\n",
       "    <tr>\n",
       "      <th>1</th>\n",
       "      <td>True</td>\n",
       "      <td>BRANCHE</td>\n",
       "      <td>industry</td>\n",
       "      <td>False</td>\n",
       "      <td>[{'id': 'V', 'text': 'Total'}, {'id': 'VMEMO',...</td>\n",
       "    </tr>\n",
       "    <tr>\n",
       "      <th>2</th>\n",
       "      <td>False</td>\n",
       "      <td>PRISENHED</td>\n",
       "      <td>price unit</td>\n",
       "      <td>False</td>\n",
       "      <td>[{'id': 'V', 'text': 'Current prices'}, {'id':...</td>\n",
       "    </tr>\n",
       "    <tr>\n",
       "      <th>3</th>\n",
       "      <td>False</td>\n",
       "      <td>Tid</td>\n",
       "      <td>time</td>\n",
       "      <td>True</td>\n",
       "      <td>[{'id': '1966', 'text': '1966'}, {'id': '1967'...</td>\n",
       "    </tr>\n",
       "  </tbody>\n",
       "</table>\n",
       "</div>"
      ],
      "text/plain": [
       "   elimination         id         text   time  \\\n",
       "0        False   TRANSAKT  transaction  False   \n",
       "1         True    BRANCHE     industry  False   \n",
       "2        False  PRISENHED   price unit  False   \n",
       "3        False        Tid         time   True   \n",
       "\n",
       "                                              values  \n",
       "0  [{'id': 'P1K', 'text': 'P.1 Output'}, {'id': '...  \n",
       "1  [{'id': 'V', 'text': 'Total'}, {'id': 'VMEMO',...  \n",
       "2  [{'id': 'V', 'text': 'Current prices'}, {'id':...  \n",
       "3  [{'id': '1966', 'text': '1966'}, {'id': '1967'...  "
      ]
     },
     "execution_count": 16,
     "metadata": {},
     "output_type": "execute_result"
    }
   ],
   "source": [
    "# a. loading data\n",
    "dst.get_variables('NABP10') # command to se 'id'\n",
    "dst.get_variables('NABP10').iloc[0]['values'] # command to see 'values' in 'TRANSAKT'\n",
    "na10 = dst.get_data(table_id = 'NABP10', variables={'TRANSAKT':['B1GD','D1D'],'BRANCHE':['*'], 'PRISENHED':['*'], 'TID':['*']})\n",
    "\n",
    "\n",
    "columns_dict = {}\n",
    "columns_dict['TRANSAKT'] = 'variable'\n",
    "columns_dict['BRANCHE'] = 'industry'\n",
    "columns_dict['PRISENHED'] = 'unit'\n",
    "columns_dict['TID'] = 'year'\n",
    "columns_dict['INDHOLD'] = 'value'\n",
    "\n",
    "var_dict = {} # var is for variable\n",
    "var_dict['P.1 Output'] = 'Y'\n",
    "var_dict['P.3 Final consumption expenditure'] = 'C'\n",
    "var_dict['P.3 Government consumption expenditure'] = 'G'\n",
    "\n",
    "na10.head()\n",
    "\n",
    "dst.get_variables('NABP10') # command to se 'id'\n",
    "#dst.get_variables('NABP10').iloc[0]['values'] # command to see 'values' in 'TRANSAKT'"
   ]
  },
  {
   "cell_type": "code",
   "execution_count": null,
   "metadata": {},
   "outputs": [],
   "source": []
  },
  {
   "cell_type": "code",
   "execution_count": null,
   "metadata": {},
   "outputs": [],
   "source": [
    "# a. loading data\n",
    "dst.get_variables('NABB10') # command to se 'id'\n",
    "#dst.get_variables('NABB10').iloc[0]['values'] # command to see 'values' in 'SOCIO'\n",
    "nabb10 = dst.get_data(table_id = 'NABB10', variables={'SOCIO':['EMPH_DC','SALH_DC'],'BRANCHE':['*'],'TID':['*']})\n",
    "nabb10\n",
    "\n",
    "columns_dict = {}\n",
    "columns_dict['SOCIO'] = 'variable'\n",
    "columns_dict['BRANCHE'] = 'industry'\n",
    "columns_dict['TID'] = 'year'\n",
    "columns_dict['INDHOLD'] = 'value'\n",
    "\n",
    "hej simon "
   ]
  },
  {
   "cell_type": "code",
   "execution_count": null,
   "metadata": {},
   "outputs": [],
   "source": []
  }
 ],
 "metadata": {
  "kernelspec": {
   "display_name": "Python 3",
   "language": "python",
   "name": "python3"
  },
  "language_info": {
   "codemirror_mode": {
    "name": "ipython",
    "version": 3
   },
   "file_extension": ".py",
   "mimetype": "text/x-python",
   "name": "python",
   "nbconvert_exporter": "python",
   "pygments_lexer": "ipython3",
   "version": "3.7.1"
  }
 },
 "nbformat": 4,
 "nbformat_minor": 2
}
